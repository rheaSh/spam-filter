{
 "cells": [
  {
   "cell_type": "markdown",
   "metadata": {},
   "source": [
    "SPAM FILTERING USING MACHINE LEARNING CLASSIFICATION"
   ]
  },
  {
   "cell_type": "code",
   "execution_count": 27,
   "metadata": {
    "collapsed": true
   },
   "outputs": [],
   "source": [
    "from os import listdir\n",
    "from os.path import isfile, join\n",
    "\n",
    "from sklearn import datasets\n",
    "from sklearn.naive_bayes import GaussianNB, MultinomialNB, BernoulliNB\n",
    "\n",
    "import nltk\n",
    "from nltk.tokenize import word_tokenize          #DOESN'T REMOVE NUMBERS OR SPECIAL CHARACTERS\n",
    "from nltk.corpus import stopwords\n",
    "from nltk.tokenize import RegexpTokenizer\n",
    "import numpy as np\n",
    "from collections import Counter\n",
    "\n",
    "from sklearn.svm import SVC, NuSVC, LinearSVC\n",
    "from sklearn.metrics import confusion_matrix"
   ]
  },
  {
   "cell_type": "code",
   "execution_count": 28,
   "metadata": {
    "collapsed": false
   },
   "outputs": [
    {
     "name": "stdout",
     "output_type": "stream",
     "text": [
      "For BernoulliNB, Number of mislabeled points out of a total 150 points : 100\n",
      "For GaussianNB, Number of mislabeled points out of a total 150 points : 6\n",
      "For MultinomialNB, Number of mislabeled points out of a total 150 points : 7\n"
     ]
    }
   ],
   "source": [
    "#SAMPLE FOR IRIS DATASET\n",
    "\n",
    "iris = datasets.load_iris()\n",
    "\n",
    "bnb = BernoulliNB()\n",
    "y_pred = bnb.fit(iris.data, iris.target).predict(iris.data)\n",
    "print(\"For BernoulliNB, Number of mislabeled points out of a total %d points : %d\" % (iris.data.shape[0],(iris.target != y_pred).sum()))\n",
    "\n",
    "gnb = GaussianNB()\n",
    "y_pred = gnb.fit(iris.data, iris.target).predict(iris.data)\n",
    "print(\"For GaussianNB, Number of mislabeled points out of a total %d points : %d\" % (iris.data.shape[0],(iris.target != y_pred).sum()))\n",
    "\n",
    "mnb = MultinomialNB()\n",
    "y_pred = mnb.fit(iris.data, iris.target).predict(iris.data)\n",
    "print(\"For MultinomialNB, Number of mislabeled points out of a total %d points : %d\" % (iris.data.shape[0],(iris.target != y_pred).sum()))"
   ]
  },
  {
   "cell_type": "code",
   "execution_count": 29,
   "metadata": {
    "collapsed": false,
    "scrolled": true
   },
   "outputs": [
    {
     "name": "stdout",
     "output_type": "stream",
     "text": [
      "1500\n"
     ]
    }
   ],
   "source": [
    "mypath = r\"C:\\Users\\iis.B104-47\\Desktop\\enron1\\spam\"\n",
    "spamfiles = [(join(mypath, f)) for f in listdir(mypath) if isfile(join(mypath, f))]\n",
    "\n",
    "print(len(spamfiles))"
   ]
  },
  {
   "cell_type": "code",
   "execution_count": 30,
   "metadata": {
    "collapsed": false
   },
   "outputs": [
    {
     "name": "stdout",
     "output_type": "stream",
     "text": [
      "3672\n"
     ]
    }
   ],
   "source": [
    "mypath = r\"C:\\Users\\iis.B104-47\\Desktop\\enron1\\ham\"\n",
    "hamfiles = [(join(mypath, f)) for f in listdir(mypath) if isfile(join(mypath, f))]\n",
    "\n",
    "print(len(hamfiles))"
   ]
  },
  {
   "cell_type": "code",
   "execution_count": 33,
   "metadata": {
    "collapsed": true
   },
   "outputs": [
    {
     "name": "stdout",
     "output_type": "stream",
     "text": [
      "[('ect', 11647), ('hou', 7283), ('subject', 6668), ('enron', 5588), ('2000', 3303), ('com', 2976), ('gas', 2771), ('please', 2645), ('deal', 2528), ('meter', 2234), ('hpl', 2160), ('000', 2005), ('10', 1801), ('2001', 1766), ('corp', 1754), ('00', 1704), ('thanks', 1563), ('know', 1468), ('01', 1411), ('ectcc', 1386), ('need', 1370), ('pmto', 1339), ('new', 1320), ('forwarded', 1292), ('may', 1286), ('daren', 1236), ('11', 1221), ('mmbtu', 1199), ('get', 1150), ('12', 1128), ('see', 1119), ('amto', 1094), ('http', 1090), ('let', 1074), ('price', 1041), ('xls', 1014), ('company', 1010), ('03', 971), ('would', 969), ('attached', 966), ('information', 926), ('farmer', 914), ('99', 911), ('us', 905), ('message', 896), ('day', 890), ('time', 883), ('one', 866), ('30', 851), ('mail', 823), ('th', 816), ('02', 811), ('volume', 803), ('20', 803), ('04', 784), ('contract', 780), ('robert', 779), ('sitara', 770), ('month', 763), ('texas', 749), ('nom', 741), ('05', 741), ('pm', 731), ('ectsubject', 725), ('energy', 723), ('deals', 721), ('questions', 719), ('pec', 709), ('15', 706), ('www', 700), ('volumes', 696), ('also', 695), ('09', 693), ('08', 689), ('ena', 686), ('file', 658), ('email', 642), ('call', 637), ('change', 623), ('net', 613), ('like', 609), ('flow', 592), ('production', 576), ('following', 575), ('21', 572), ('31', 562), ('07', 559), ('06', 557), ('back', 555), ('25', 555), ('want', 552), ('could', 535), ('original', 533), ('16', 530), ('24', 529), ('nomination', 521), ('per', 518), ('ticket', 512), ('make', 507), ('days', 506), ('march', 501), ('inc', 500), ('contact', 500), ('report', 496), ('sent', 489), ('april', 485), ('list', 483), ('system', 481), ('first', 477), ('14', 477), ('gary', 473), ('sale', 473), ('number', 472), ('28', 471), ('business', 462), ('july', 461), ('order', 457), ('font', 457), ('today', 456), ('help', 456), ('forward', 455), ('22', 455), ('mary', 455), ('use', 451), ('free', 450), ('daily', 449), ('100', 446), ('23', 440), ('go', 439), ('bob', 431), ('fw', 429), ('19', 426), ('27', 425), ('plant', 424), ('set', 423), ('statements', 419), ('take', 415), ('effective', 414), ('nbsp', 414), ('18', 411), ('oil', 411), ('sales', 410), ('line', 409), ('29', 403), ('17', 403), ('713', 402), ('well', 401), ('13', 399), ('tenaska', 392), ('june', 389), ('26', 388), ('north', 384), ('within', 381), ('january', 372), ('america', 371), ('next', 367), ('week', 367), ('less', 365), ('two', 364), ('george', 364), ('service', 363), ('last', 363), ('based', 362), ('name', 361), ('ami', 358), ('purchase', 357), ('changes', 356), ('thank', 355), ('click', 352), ('agreement', 347), ('height', 347), ('work', 347), ('group', 345), ('year', 343), ('due', 341), ('50', 341), ('transport', 340), ('tap', 340), ('vance', 337), ('available', 335), ('think', 335), ('made', 335), ('noms', 330), ('management', 329), ('services', 328), ('send', 327), ('office', 325), ('stock', 325), ('smith', 322), ('needs', 318), ('co', 317), ('cotten', 316), ('looking', 316), ('request', 315), ('look', 315), ('melissa', 315), ('actuals', 314), ('best', 314), ('delivery', 312), ('enroncc', 312), ('money', 312), ('online', 311), ('pat', 311), ('40', 310), ('pills', 307), ('desk', 307), ('august', 305), ('product', 301), ('lisa', 299), ('chokshi', 299), ('point', 299), ('friday', 298), ('size', 298), ('jackie', 294), ('find', 294), ('address', 293), ('width', 293), ('give', 290), ('future', 290), ('iv', 289), ('october', 288), ('sure', 285), ('cc', 285), ('david', 284), ('julie', 281), ('currently', 281), ('many', 280), ('market', 278), ('houston', 277), ('internet', 276), ('60', 275), ('steve', 274), ('said', 274), ('link', 273), ('hplc', 273), ('high', 272), ('45', 271), ('john', 270), ('pipeline', 270), ('people', 270), ('rate', 270), ('still', 270), ('account', 270), ('since', 269), ('home', 267), ('hsc', 267), ('actual', 266), ('michael', 265), ('susan', 265), ('good', 265), ('date', 264), ('info', 262), ('megan', 261), ('end', 261), ('tu', 261), ('total', 261), ('receive', 261), ('team', 260), ('products', 260), ('monday', 260), ('spot', 257), ('going', 257), ('december', 257), ('process', 256), ('feb', 256), ('september', 255), ('duke', 254), ('na', 254), ('lloyd', 253), ('global', 252), ('aimee', 252), ('98', 251), ('mark', 250), ('february', 249), ('aol', 247), ('resources', 246), ('hours', 246), ('2000teco', 245), ('tom', 245), ('check', 244), ('fax', 244), ('pay', 243), ('2004', 243), ('issue', 242), ('right', 242), ('note', 242), ('investment', 241), ('jan', 241), ('natural', 241), ('show', 241), ('november', 240), ('counterparty', 240), ('way', 239), ('offer', 239), ('securities', 239), ('computron', 238), ('prices', 238), ('phone', 238), ('place', 238), ('eastrans', 237), ('activity', 237), ('graves', 236), ('500', 236), ('utilities', 235), ('save', 234), ('clynes', 234), ('received', 234), ('meeting', 234), ('id', 232), ('term', 232), ('revised', 231), ('brian', 230), ('unify', 230), ('pg', 229), ('able', 229), ('align', 227), ('site', 227), ('thursday', 227), ('news', 226), ('fee', 225), ('additional', 224), ('hplno', 224), ('trading', 224), ('must', 223), ('data', 221), ('keep', 221), ('reply', 221), ('txu', 220), ('every', 220), ('special', 219), ('taylor', 219), ('wellhead', 219), ('access', 217), ('howard', 216), ('great', 215), ('much', 214), ('provide', 214), ('put', 213), ('lannou', 213), ('review', 213), ('buy', 212), ('tuesday', 211), ('long', 211), ('44', 211), ('nd', 210), ('copy', 210), ('69', 210), ('however', 209), ('section', 209), ('software', 209), ('done', 209), ('without', 208), ('part', 208), ('prior', 207), ('million', 207), ('trade', 207), ('world', 206), ('customer', 206), ('hanks', 204), ('created', 204), ('continue', 203), ('numbers', 201), ('demand', 201), ('transaction', 201), ('regarding', 201), ('support', 201), ('via', 201), ('even', 201), ('contracts', 200), ('meyers', 199), ('young', 199), ('possible', 199), ('months', 199), ('control', 199), ('believe', 199), ('used', 198), ('pefs', 198), ('entered', 197), ('st', 196), ('doc', 196), ('thru', 195), ('supply', 195), ('meters', 195), ('gcs', 195), ('face', 195), ('cec', 195), ('create', 194), ('current', 193), ('dec', 193), ('customers', 193), ('web', 191), ('performance', 191), ('lee', 191), ('center', 191), ('color', 191), ('weissman', 191), ('comcc', 191), ('come', 191), ('hplo', 190), ('90', 190), ('power', 190), ('manager', 189), ('using', 189), ('correct', 189), ('allocation', 188), ('james', 188), ('development', 187), ('low', 187), ('soon', 187), ('start', 186), ('someone', 184), ('tickets', 184), ('increase', 183), ('rates', 183), ('problem', 182), ('enronsubject', 182), ('details', 181), ('international', 181), ('border', 181), ('read', 180), ('needed', 179), ('paid', 179), ('field', 178), ('fuel', 177), ('companies', 177), ('risk', 177), ('include', 176), ('fuels', 175), ('visit', 174), ('index', 174), ('pt', 174), ('act', 173), ('120', 173), ('pricing', 173), ('nominations', 173), ('deliveries', 172), ('anything', 172), ('type', 171), ('financial', 170), ('href', 170), ('scheduled', 170), ('gathering', 170), ('either', 170), ('sell', 169), ('tx', 169), ('carlos', 169), ('add', 168), ('feel', 168), ('getting', 168), ('security', 167), ('another', 166), ('advice', 166), ('35', 166), ('top', 166), ('enronxgate', 166), ('marketing', 166), ('three', 166), ('logistics', 165), ('path', 165), ('issues', 165), ('wednesday', 164), ('firm', 164), ('works', 164), ('interest', 163), ('form', 163), ('camp', 163), ('family', 162), ('including', 161), ('plan', 161), ('xp', 161), ('allen', 161), ('src', 160), ('63', 160), ('spreadsheet', 160), ('working', 159), ('stop', 159), ('wynne', 159), ('update', 158), ('buyback', 158), ('stocks', 158), ('remove', 157), ('equistar', 156), ('cost', 156), ('party', 156), ('allocated', 156), ('got', 156), ('follow', 156), ('results', 155), ('katherine', 155), ('old', 155), ('position', 155), ('full', 154), ('might', 154), ('pops', 154), ('rita', 154), ('windows', 154), ('yahoo', 153), ('zero', 153), ('calpine', 153), ('operations', 153), ('scheduling', 153), ('past', 152), ('dollars', 151), ('36', 151), ('agree', 151), ('professional', 151), ('flowed', 151), ('already', 150), ('katy', 150), ('suite', 150), ('gco', 150), ('better', 149), ('1999', 148), ('800', 148), ('page', 148), ('48', 148), ('changed', 148), ('period', 147), ('error', 147), ('move', 147), ('anita', 147), ('tdtd', 146), ('mike', 146), ('morning', 146), ('book', 146), ('program', 145), ('teco', 144), ('ees', 144), ('operating', 144), ('80', 144), ('entex', 144), ('32', 144), ('161', 144), ('aep', 143), ('accounting', 143), ('cotton', 143), ('real', 142), ('state', 142), ('regards', 142), ('tomorrow', 141), ('hope', 141), ('employees', 141), ('hotmail', 141), ('brenda', 140), ('provided', 140), ('lst', 139), ('person', 139), ('cd', 139), ('exchange', 139), ('swing', 139), ('scott', 137), ('parker', 136), ('cialis', 136), ('canada', 136), ('valid', 136), ('quality', 136), ('something', 135), ('little', 135), ('34', 135), ('donald', 135), ('follows', 135), ('im', 134), ('around', 134), ('fact', 134), ('coastal', 134), ('always', 133), ('storage', 133), ('never', 133), ('invoice', 133), ('try', 133), ('confirm', 133), ('ray', 133), ('problems', 133), ('soft', 133), ('called', 133), ('case', 132), ('love', 132), ('ranch', 132), ('tax', 132), ('pipe', 131), ('stephanie', 131), ('unsubscribe', 131), ('viagra', 131), ('200', 130), ('acton', 130), ('credit', 130), ('amount', 130), ('project', 129), ('yet', 128), ('website', 128), ('limited', 128), ('midcon', 128), ('55', 128), ('rodriguez', 128), ('shut', 128), ('big', 128), ('sherlyn', 128), ('charlie', 128), ('shares', 127), ('united', 127), ('wanted', 127), ('years', 126), ('survey', 126), ('microsoft', 126), ('td', 126), ('clem', 126), ('richard', 126), ('anyone', 126), ('weekend', 125), ('cash', 125), ('ic', 125), ('fred', 125), ('requested', 125), ('everyone', 124), ('estimates', 124), ('city', 124), ('notice', 124), ('addition', 123), ('39', 123), ('imbalance', 123), ('style', 123), ('advise', 123), ('lsk', 123), ('payment', 122), ('life', 122), ('cover', 122), ('wish', 122), ('hplnl', 122), ('lauri', 121), ('schumack', 121), ('prescription', 121), ('producer', 121), ('clear', 121), ('33', 120), ('vltx', 120), ('de', 120), ('mobil', 120), ('handle', 120), ('meet', 120), ('small', 119), ('beginning', 119), ('letter', 119), ('donna', 119), ('stone', 119), ('complete', 119), ('technology', 118), ('location', 118), ('central', 118), ('else', 118), ('enter', 118), ('left', 118), ('shows', 117), ('terms', 117), ('release', 117), ('redeliveries', 116), ('intended', 116), ('extend', 116), ('box', 116), ('confirmed', 116), ('cut', 115), ('bill', 115), ('2003', 115), ('president', 115), ('38', 115), ('56', 115), ('charge', 115), ('schedule', 115), ('personal', 114), ('lamphier', 114), ('basis', 114), ('al', 114), ('newsletter', 114), ('feedback', 114), ('offers', 114), ('things', 114), ('ever', 114), ('meds', 114), ('third', 113), ('281', 113), ('question', 113), ('found', 113), ('herod', 113), ('dow', 113), ('300', 113), ('papayoti', 113), ('49', 113), ('easy', 113), ('view', 113), ('thought', 112), ('42', 111), ('listed', 111), ('ask', 111), ('thomas', 111), ('58', 111), ('85', 111), ('second', 111), ('area', 111), ('karen', 111), ('shipping', 111), ('dfarmer', 110), ('investing', 110), ('html', 110), ('commercial', 110), ('cynthia', 110), ('therefore', 109), ('necessary', 109), ('extended', 109), ('corporation', 109), ('run', 109), ('several', 109), ('open', 109), ('reason', 109), ('man', 109), ('47', 109), ('95', 109), ('edward', 109), ('added', 109), ('union', 108), ('star', 108), ('830', 108), ('remember', 108), ('mg', 108), ('cannot', 108), ('weeks', 108), ('59', 108), ('52', 108), ('capital', 108), ('beaumont', 108), ('content', 108), ('victor', 107), ('industry', 107), ('download', 107), ('exxon', 107), ('important', 107), ('cause', 106), ('times', 106), ('action', 106), ('mailto', 106), ('37', 106), ('mid', 106), ('stacey', 106), ('75', 106), ('monthly', 106), ('probably', 106), ('thu', 106), ('ces', 105), ('voip', 105), ('final', 105), ('neal', 105), ('late', 105), ('koch', 105), ('sept', 105), ('side', 105), ('states', 105), ('flash', 105), ('dave', 104), ('version', 104), ('53', 104), ('application', 103), ('afternoon', 103), ('transfer', 103), ('code', 103), ('interested', 103), ('together', 103), ('tell', 103), ('mcf', 103), ('different', 103), ('lp', 103), ('6353', 103), ('requirements', 103), ('events', 103), ('cheryl', 103), ('everything', 103), ('east', 103), ('etc', 103), ('night', 102), ('direct', 102), ('value', 102), ('options', 102), ('country', 102), ('bryan', 102), ('exploration', 102), ('stack', 102), ('write', 102), ('jim', 101), ('receipt', 101), ('legal', 101), ('bank', 101), ('enserch', 101), ('54', 101), ('option', 101), ('close', 100), ('loss', 100), ('lsp', 100), ('coming', 100), ('private', 100), ('098', 100), ('response', 100), ('revision', 99), ('systems', 99), ('nominated', 99), ('included', 99), ('latest', 99), ('potential', 99), ('expected', 99), ('valero', 99), ('unit', 99), ('really', 99), ('return', 99), ('ken', 98), ('image', 98), ('priced', 98), ('ready', 98), ('paliourg', 98), ('talk', 98), ('public', 98), ('completed', 98), ('material', 98), ('related', 98), ('kind', 97), ('south', 97), ('baumbach', 97), ('jeff', 97), ('carthage', 97), ('plans', 97), ('industrial', 97), ('removed', 97), ('longer', 97), ('away', 96), ('hesse', 96), ('reinhardt', 96), ('php', 96), ('health', 96), ('rd', 96), ('aware', 96), ('853', 96), ('fill', 96), ('drugs', 96), ('given', 96), ('expect', 96), ('pro', 96), ('china', 95), ('tess', 95), ('costs', 95), ('el', 95), ('user', 95), ('growth', 95), ('orders', 95), ('bgcolor', 95), ('reports', 95), ('asked', 95), ('say', 95), ('discuss', 95), ('liz', 95), ('computer', 95), ('fyi', 95), ('approximately', 94), ('sold', 94), ('cs', 94), ('zone', 94), ('verify', 94), ('browser', 94), ('server', 94), ('registered', 94), ('mentioned', 94), ('jones', 94), ('track', 94), ('portfolio', 94), ('janet', 94), ('sorry', 93), ('physical', 93), ('required', 93), ('items', 93), ('duty', 93), ('eol', 93), ('told', 93), ('begin', 93), ('showing', 92), ('department', 92), ('later', 92), ('strong', 92), ('hard', 92), ('51', 92), ('oasis', 92), ('nothing', 92), ('updated', 92), ('trying', 91), ('mm', 91), ('general', 91), ('major', 91), ('source', 90), ('users', 90), ('whole', 90), ('base', 90), ('purchases', 90), ('mr', 90), ('delivered', 90), ('pathed', 90), ('41', 90), ('57', 90), ('assistance', 90), ('level', 89), ('allow', 89), ('adobe', 89), ('retail', 89), ('expectations', 89), ('oo', 89), ('directly', 89), ('jennifer', 89), ('gif', 89), ('risks', 89), ('70', 89), ('riley', 89), ('easttexas', 89), ('bellamy', 89), ('valley', 89), ('play', 88), ('impact', 88), ('poorman', 88), ('luong', 88), ('ali', 88), ('answer', 88), ('cleburne', 87), ('status', 87), ('paste', 87), ('reference', 87), ('thing', 87), ('46', 87), ('enrononline', 87), ('avila', 86), ('facility', 86), ('methanol', 86), ('though', 86), ('gpgfin', 86), ('employee', 86), ('says', 86), ('nguyen', 85), ('nov', 85), ('ensure', 85), ('hall', 85), ('jpg', 85), ('transportation', 85), ('lone', 85), ('stella', 85), ('god', 85), ('iferc', 85), ('drive', 85), ('taken', 85), ('43', 85), ('upon', 85), ('reflect', 85), ('tabs', 84), ('spoke', 84), ('ltd', 84), ('purchased', 84), ('morris', 84), ('taking', 84), ('aepin', 84), ('network', 84), ('quick', 84), ('worldwide', 83), ('kevin', 83), ('businesses', 83), ('waha', 83), ('dy', 83), ('apache', 83), ('124', 83), ('considered', 83), ('sign', 83), ('federal', 83), ('brand', 83), ('oct', 83), ('calls', 83), ('assets', 82), ('bridge', 82), ('short', 82), ('ability', 82), ('lamadrid', 82), ('watch', 82), ('pc', 82), ('statement', 82), ('darren', 82), ('spam', 81), ('key', 81), ('tejas', 81), ('fixed', 81), ('king', 81), ('compliance', 81), ('approval', 81), ('four', 81), ('bring', 81), ('reliantenergy', 81), ('2005', 81), ('availability', 81), ('choose', 81), ('hill', 80), ('records', 80), ('cp', 80), ('green', 80), ('points', 80), ('effort', 80), ('guys', 80), ('4179', 80), ('includes', 80), ('understanding', 80), ('large', 80), ('game', 80), ('took', 80), ('sally', 80), ('eileen', 80), ('chance', 80), ('travel', 79), ('wants', 79), ('earl', 79), ('saturday', 79), ('971', 79), ('valign', 79), ('melissajones', 79), ('understand', 79), ('capacity', 79), ('property', 79), ('care', 79), ('takes', 79), ('channel', 79), ('lose', 78), ('stay', 78), ('345', 78), ('meaning', 78), ('devon', 78), ('matter', 78), ('walker', 78), ('mx', 78), ('hub', 78), ('johnson', 78), ('albrecht', 78), ('plus', 78), ('65', 78), ('william', 78), ('withers', 78), ('ofthe', 77), ('bruce', 77), ('happy', 77), ('moved', 77), ('cernosek', 77), ('enw', 77), ('looks', 77), ('referenced', 77), ('staff', 77), ('hear', 77), ('target', 77), ('ponton', 77), ('1266', 76), ('making', 76), ('beverly', 76), ('ship', 76), ('starting', 76), ('distribution', 76), ('sat', 76), ('200010', 76), ('early', 76), ('kcs', 76), ('others', 76), ('enerfin', 76), ('print', 76), ('additionally', 75), ('men', 75), ('reserves', 75), ('partner', 75), ('transactions', 75), ('immediately', 75), ('listing', 75), ('certain', 75), ('markets', 75), ('shall', 75), ('215', 75), ('went', 75), ('share', 75), ('non', 74), ('excess', 74), ('settlements', 74), ('enough', 74), ('paso', 74), ('processing', 74), ('solution', 74), ('cornhusker', 74), ('pain', 74), ('password', 74), ('superty', 74), ('shell', 74), ('training', 74), ('williams', 74), ('existing', 74), ('tina', 74), ('expedia', 74), ('approved', 74), ('super', 74), ('publisher', 74), ('white', 74), ('experience', 73), ('director', 73), ('sun', 73), ('press', 73), ('herrera', 73), ('moopid', 73), ('half', 73), ('000000', 73), ('hotlist', 73), ('words', 73), ('music', 72), ('weight', 72), ('vacation', 72), ('sex', 72), ('fund', 72), ('text', 72), ('card', 72), ('mar', 72), ('savings', 72), ('eric', 72), ('balance', 72), ('biz', 72), ('tisdale', 72), ('land', 71), ('appreciate', 71), ('neon', 71), ('200002', 71), ('fwd', 71), ('expense', 71), ('hi', 71), ('wells', 71), ('investors', 71), ('cdnow', 71), ('comsubject', 71), ('couple', 70), ('flowing', 70), ('become', 70), ('occur', 70), ('images', 70), ('turn', 70), ('instructions', 70), ('trtrtd', 70), ('attention', 70), ('sunday', 70), ('none', 70), ('fast', 70), ('terry', 70), ('informed', 70), ('friends', 70), ('draft', 70), ('dan', 70), ('photoshop', 69), ('entire', 69), ('cheap', 69), ('dynegy', 69), ('middle', 69), ('rest', 69), ('format', 69), ('contains', 69), ('simply', 69), ('activities', 69), ('elizabeth', 68), ('250', 68), ('comments', 68), ('instant', 68), ('record', 68), ('ua', 68), ('105', 68), ('boas', 68), ('differ', 68), ('hot', 68), ('mind', 68), ('communications', 68), ('ago', 68), ('2002', 68), ('svcs', 68), ('outage', 67), ('safe', 67), ('charlotte', 67), ('intrastate', 67), ('assist', 67), ('relief', 67), ('secure', 67), ('document', 67), ('according', 67), ('fun', 67), ('air', 67), ('publication', 67), ('kimberly', 67), ('lower', 67), ('held', 67), ('technologies', 67), ('select', 67), ('title', 67), ('partners', 67), ('agent', 67), ('pass', 66), ('estimated', 66), ('allocate', 66), ('recent', 66), ('black', 66), ('national', 66), ('enjoy', 66), ('join', 66), ('leave', 66), ('features', 66), ('hakemack', 66), ('jill', 66), ('five', 66), ('video', 65), ('discussion', 65), ('ceo', 65), ('missing', 65), ('colspan', 65), ('gulf', 65), ('confirmation', 65), ('respect', 65), ('limit', 65), ('tracked', 65), ('specific', 65), ('determine', 65), ('holmes', 65), ('projections', 65), ('expired', 65), ('officer', 65), ('database', 65), ('active', 65), ('body', 65), ('room', 64), ('blue', 64), ('medical', 64), ('knle', 64), ('rc', 64), ('started', 64), ('gomes', 64), ('whether', 64), ('subscribers', 64), ('projects', 64), ('asap', 64), ('event', 64), ('pinion', 64), ('bad', 64), ('offering', 64), ('doctor', 64), ('yesterday', 64), ('olsen', 64), ('estimate', 63), ('learn', 63), ('prize', 63), ('involve', 63), ('confidential', 63), ('sandi', 63), ('messages', 63), ('pharmacy', 63), ('prc', 63), ('provides', 63), ('reduce', 63), ('rebecca', 63), ('billed', 63), ('louisiana', 63), ('opportunity', 63), ('gtc', 63), ('notify', 63), ('class', 63), ('mckay', 63), ('mops', 63), ('reach', 63), ('demokritos', 62), ('spinnaker', 62), ('transition', 62), ('average', 62), ('heard', 62), ('generic', 62), ('iit', 62), ('files', 62), ('mccoy', 62), ('light', 62), ('exactly', 62), ('wide', 62), ('roll', 61), ('uncertainties', 61), ('perfect', 61), ('brazos', 61), ('previously', 61), ('monitor', 61), ('200003', 61), ('promotions', 61), ('reveffo', 61), ('cass', 61), ('chad', 61), ('pick', 61), ('br', 61), ('receiving', 61), ('greater', 61), ('near', 61), ('la', 61), ('evergreen', 61), ('package', 61), ('readers', 61), ('appear', 61), ('featured', 61), ('difference', 61), ('97', 61), ('california', 61), ('expects', 61), ('valium', 60), ('school', 60), ('advised', 60), ('9497', 60), ('bought', 60), ('voice', 60), ('trader', 60), ('groups', 60), ('ok', 60), ('planning', 60), ('wi', 60), ('history', 60), ('unaccounted', 60), ('paragraph', 60), ('members', 60), ('common', 60), ('london', 60), ('result', 60), ('southern', 60), ('sources', 60), ('corporate', 59), ('west', 59), ('worth', 59), ('discussions', 59), ('hour', 59), ('express', 59), ('concerns', 59), ('goes', 59), ('representative', 59), ('gift', 59), ('communication', 59), ('associated', 59), ('sa', 59), ('linda', 59), ('increased', 59), ('committed', 59), ('claim', 59), ('hesco', 59), ('waiting', 59), ('600', 58), ('greg', 58), ('remain', 58), ('profile', 58), ('img', 58), ('register', 58), ('troy', 58), ('trevino', 58), ('0435', 58), ('ms', 58), ('head', 58), ('came', 58), ('tr', 58), ('tufco', 58), ('normally', 58), ('discount', 58), ('hold', 58), ('involved', 58), ('brown', 58), ('resolve', 58), ('calling', 58), ('opportunities', 58), ('role', 57), ('situation', 57), ('similar', 57), ('gain', 57), ('ricky', 57), ('respond', 57), ('sec', 57), ('owner', 57), ('county', 57), ('xanax', 57), ('panenergy', 57), ('usa', 57), ('suggestions', 57), ('lot', 57), ('chris', 57), ('012', 57), ('appropriate', 57), ('word', 57), ('interconnect', 57), ('purchasing', 57), ('identified', 57), ('efforts', 57), ('american', 56), ('facilities', 56), ('resolved', 56), ('400', 56), ('agreed', 56), ('responsible', 56), ('parties', 56), ('winfree', 56), ('delta', 56), ('assignment', 56), ('member', 56), ('rnd', 56), ('copano', 56), ('200009', 56), ('require', 56), ('outstanding', 56), ('lead', 56), ('rolex', 55), ('local', 55), ('usage', 55), ('believes', 55), ('media', 55), ('digital', 55), ('apr', 55), ('pre', 55), ('model', 55), ('chairman', 55), ('selling', 55), ('instead', 55), ('along', 55), ('submit', 55), ('opinion', 55), ('ews', 55), ('lake', 55), ('gdp', 55), ('factors', 55), ('prod', 55), ('notes', 55), ('registration', 55), ('lots', 54), ('quarter', 54), ('deliver', 54), ('manage', 54), ('kristen', 54), ('invoices', 54), ('job', 54), ('cf', 54), ('strangers', 54), ('ei', 54), ('ed', 54), ('ex', 54), ('girls', 54), ('goliad', 54), ('est', 54), ('750', 54), ('vs', 54), ('government', 54), ('red', 54), ('recipient', 54), ('kenneth', 54), ('suggest', 54), ('fees', 54), ('course', 54), ('sincerely', 54), ('1933', 54), ('neuweiler', 54), ('force', 54), ('across', 54), ('463', 54), ('tammy', 54), ('primary', 53), ('discussed', 53), ('emails', 53), ('petroleum', 53), ('ca', 53), ('gd', 53), ('placed', 53), ('summary', 53), ('101', 53), ('seek', 53), ('jeffrey', 53), ('known', 53), ('cds', 53), ('house', 53), ('fine', 53), ('nominate', 53), ('sullivan', 53), ('success', 53), ('medications', 53), ('basin', 52), ('marta', 52), ('asking', 52), ('assigned', 52), ('yes', 52), ('store', 52), ('higher', 52), ('cpr', 52), ('ext', 52), ('dr', 52), ('means', 52), ('wait', 52), ('reflects', 52), ('located', 52), ('providing', 52), ('kelly', 52), ('advantage', 52), ('recently', 52), ('investor', 52), ('individual', 52), ('golf', 52), ('item', 52), ('984132', 52), ('least', 52), ('solutions', 52), ('revenue', 52), ('present', 52), ('age', 52), ('properties', 52), ('htmlimg', 52), ('hanson', 52), ('agency', 52), ('multiple', 52), ('various', 52), ('apply', 52), ('ones', 52), ('huge', 51), ('dth', 51), ('met', 51), ('wholesale', 51), ('range', 51), ('stephen', 51), ('recorded', 51), ('oi', 51), ('worked', 51), ('gisb', 51), ('welcome', 51), ('car', 51), ('ifercls', 51), ('grant', 51), ('seen', 51), ('objectives', 51), ('focus', 51), ('84', 51), ('draw', 51), ('booked', 51), ('far', 51), ('women', 51), ('royal', 50), ('wilson', 50), ('csikos', 50), ('connection', 50), ('origination', 50), ('thousand', 50), ('maybe', 50), ('pgev', 50), ('paths', 50), ('announced', 50), ('encina', 50), ('kim', 50), ('pipes', 50), ('match', 50), ('expenses', 50), ('beaty', 50), ('broadband', 50), ('200011', 50), ('handling', 50), ('input', 50), ('button', 50), ('martin', 50), ('normal', 50), ('lonestar', 50), ('bankruptcy', 50), ('dallas', 50), ('guarantee', 50), ('analysis', 50), ('penis', 50), ('minute', 49), ('door', 49), ('research', 49), ('test', 49), ('sending', 49), ('popular', 49), ('0310041', 49), ('talked', 49), ('memo', 49), ('coupon', 49), ('tetco', 49), ('behalf', 49), ('live', 49), ('friend', 49), ('herein', 49), ('027', 49), ('preliminary', 49), ('names', 49), ('mo', 49), ('texaco', 49), ('rx', 49), ('shipped', 49), ('mills', 49), ('board', 49), ('step', 49), ('buyer', 49), ('reporting', 49), ('amazon', 49), ('acquisition', 49), ('paul', 49), ('initial', 49), ('bit', 49), ('attachment', 49), ('brandywine', 49), ('conversation', 49), ('heidi', 49), ('financing', 48), ('maintenance', 48), ('resume', 48), ('somehow', 48), ('200008', 48), ('gb', 48), ('arrangements', 48), ('applications', 48), ('jo', 48), ('represent', 48), ('running', 48), ('hplnol', 48), ('assumptions', 48), ('enterprise', 48), ('msn', 48), ('paying', 48), ('usb', 48), ('happen', 48), ('conditions', 48), ('expires', 48), ('goals', 48), ('tried', 48), ('committee', 48), ('privacy', 48), ('appears', 48), ('paper', 47), ('station', 47), ('positions', 47), ('mitchell', 47), ('immediate', 47), ('gr', 47), ('8722', 47), ('pena', 47), ('minutes', 47), ('01we', 47), ('internal', 47), ('gold', 47), ('spring', 47), ('earlier', 47), ('decided', 47), ('shop', 47), ('inthe', 47), ('accounts', 47), ('96', 47), ('sap', 47), ('holding', 47), ('1934', 47), ('mobile', 47), ('8659', 47), ('updates', 47), ('mailing', 47), ('finally', 47), ('citibank', 47), ('mtr', 47), ('percent', 47), ('extra', 46), ('0424040', 46), ('aug', 46), ('200004', 46), ('revisions', 46), ('quickly', 46), ('gave', 46), ('inform', 46), ('wife', 46), ('attend', 46), ('ftar', 46), ('77002713', 46), ('comes', 46), ('correctly', 46), ('hl', 46), ('delete', 46), ('christy', 46), ('critical', 46), ('titles', 46), ('ooking', 46), ('646', 46), ('centana', 46), ('hawkins', 46), ('highly', 46), ('forthe', 46), ('park', 46), ('affiliate', 46), ('ideas', 46), ('phillips', 46), ('alt', 46), ('six', 46), ('floor', 46), ('europe', 46), ('thisemail', 46), ('benefit', 46), ('gotten', 46), ('lowest', 46), ('ebs', 46), ('supply700', 45), ('analyst', 45), ('father', 45), ('membership', 45), ('among', 45), ('pcx', 45), ('selected', 45), ('rather', 45), ('direct713', 45), ('unique', 45), ('accept', 45), ('acceptance', 45), ('en', 45), ('kinsey', 45), ('baxter', 45), ('facts', 45), ('profit', 45), ('termination', 45), ('2700houston', 45), ('jfarmer', 45), ('nominates', 45), ('sweeney', 45), ('249', 45), ('jackson', 45), ('pill', 45), ('single', 45), ('stated', 45), ('san', 45), ('load', 45), ('building', 45), ('actually', 45), ('speculative', 45), ('bid', 45), ('archerfuel', 45), ('onthe', 45), ('exclusive', 45), ('senior', 45), ('category', 45), ('funds', 45), ('juno', 45), ('ordering', 44), ('daniel', 44), ('comfor', 44), ('149', 44), ('201', 44), ('crude', 44), ('adjustment', 44), ('josey', 44), ('indicate', 44), ('congress', 44), ('transmission', 44), ('kept', 44), ('speed', 44), ('lindley', 44), ('mb', 44), ('talking', 44), ('understood', 44), ('rm', 44), ('entry', 44), ('accuracy', 44), ('availabilities', 44), ('egmnom', 44), ('standard', 44), ('wa', 44), ('remaining', 44), ('arrangement', 44), ('mean', 44), ('outside', 44), ('enronls', 44), ('logos', 44), ('214', 44), ('purposes', 44), ('road', 44), ('wrong', 43), ('fri', 43), ('baseload', 43), ('letters', 43), ('schneider', 43), ('historical', 43), ('connor', 43), ('lost', 43), ('foreign', 43), ('pull', 43), ('cable', 43), ('ocean', 43), ('vols', 43), ('buying', 43), ('corporationalbrecht', 43), ('clearance', 43), ('0986725', 43), ('documents', 43), ('pipelines', 43), ('quote', 43), ('resellers', 43), ('jr', 43), ('counterparties', 43), ('notified', 43), ('serve', 43), ('changing', 43), ('except', 43), ('wellmeter', 43), ('guess', 43), ('cap', 43), ('anticipated', 43), ('ftworth', 43), ('dollar', 43), ('almost', 43), ('78', 43), ('shopping', 43), ('epgt', 43), ('clean', 43), ('fontfont', 43), ('split', 42), ('bottom', 42), ('wed', 42), ('invitation', 42), ('outlook', 42), ('submitted', 42), ('texoma', 42), ('zonewww', 42), ('cherry', 42), ('avoid', 42), ('rights', 42), ('billion', 42), ('entity', 42), ('kathy', 42), ('giving', 42), ('charles', 42), ('1618', 42), ('crosstex', 42), ('invest', 42), ('cross', 42), ('example', 42), ('pep', 42), ('true', 42), ('bammel', 42), ('hplr', 42), ('hernandez', 42), ('guadalupe', 42), ('matt', 42), ('developed', 42), ('mtbe', 42), ('legislation', 42), ('gra', 42), ('children', 42), ('build', 42), ('annual', 42), ('asset', 42), ('hull', 42), ('fat', 42), ('cartwheel', 42), ('clickathome', 42), ('leader', 42), ('rev', 41), ('seaman', 41), ('budget', 41), ('dvd', 41), ('payments', 41), ('minimum', 41), ('alternative', 41), ('pathing', 41), ('detail', 41), ('leading', 41), ('dealers', 41), ('edition', 41), ('exception', 41), ('window', 41), ('eb', 41), ('guaranteed', 41), ('hr', 41), ('cindy', 41), ('calendar', 41), ('throughout', 41), ('yvette', 41), ('5192', 41), ('thefollowing', 41), ('vicodin', 41), ('4176', 41), ('quantity', 41), ('leslie', 41), ('table', 41), ('column', 41), ('speckels', 41), ('customerservice', 41), ('comprices', 41), ('checked', 41), ('evening', 41), ('merchant', 41), ('topica', 41), ('description', 41), ('brent', 41), ('wallis', 41), ('700', 41), ('cowboy', 41), ('withoutnotice', 41), ('shownabove', 41), ('hotel', 41), ('darial', 41), ('equity', 41), ('braband', 41), ('front', 41), ('claims', 41), ('manual', 41), ('warning', 41), ('lines', 41), ('executive', 41), ('1226030', 41), ('telephone', 41), ('zivley', 41), ('anycomplaints', 40), ('contents', 40), ('pictures', 40), ('programs', 40), ('investments', 40), ('proposed', 40), ('128', 40), ('yap', 40), ('comcompaqhewlett', 40), ('sheet', 40), ('concern', 40), ('austin', 40), ('inherent', 40), ('strategy', 40), ('packard3', 40), ('participate', 40), ('dailyls', 40), ('morgan', 40), ('resulting', 40), ('launch', 40), ('enquiries', 40), ('deer', 40), ('trip', 40), ('iiipassed', 40), ('stand', 40), ('edmondson', 40), ('concerning', 40), ('moving', 40), ('1373', 40), ('reliant', 40), ('intent', 39), ('airmail', 39), ('overnight', 39), ('policy', 39), ('tothe', 39), ('holiday', 39), ('romeo', 39), ('weather', 39), ('child', 39), ('positive', 39), ('detailed', 39), ('sea', 39), ('hol', 39), ('ga', 39), ('charset', 39), ('finance', 39), ('dates', 39), ('comdellinteliomegaepsonaopencreativetoshibaapcciscousroboticsmicrosoftcanonintellinettargusviewsonicibmsony', 39), ('changeusa', 39), ('eff', 39), ('92', 39), ('heart', 39), ('conflict', 39), ('tailgate', 39), ('briley', 39), ('schedulers', 39), ('pager', 39), ('prepared', 39), ('mazowita', 39), ('games', 39), ('gets', 39), ('200012', 39), ('pertaining', 39), ('comtel', 39), ('commission', 39), ('uae', 39), ('contactinformation', 39), ('charlene', 39), ('htm', 39), ('effect', 39), ('229', 39), ('hillary', 39), ('built', 39), ('chief', 39), ('jaquet', 39), ('otherwise', 39), ('reduction', 39), ('operational', 39), ('thousands', 39), ('materia', 38), ('terminated', 38), ('adjusted', 38), ('eel', 38), ('glover', 38), ('oursales', 38), ('405', 38), ('port', 38), ('sum', 38), ('pleased', 38), ('managing', 38), ('andtrademarks', 38), ('prepare', 38), ('cellpadding', 38), ('idea', 38), ('traders', 38), ('plaintext', 38), ('issued', 38), ('owe', 38), ('revenues', 38), ('venturatos', 38), ('crow', 38), ('alert', 38), ('licensed', 38), ('dial', 38), ('award', 38), ('cal', 38), ('advance', 38), ('harris', 38), ('simple', 38), ('patclynes', 38), ('min', 38), ('announce', 38), ('suzanne', 38), ('summer', 38), ('robin', 38), ('bryce', 38), ('griffin', 38), ('itoy', 38), ('spencer', 38), ('gottlob', 37), ('emirates', 37), ('ferc', 37), ('individuals', 37), ('realize', 37), ('approx', 37), ('elsa', 37), ('presently', 37), ('construed', 37), ('beck', 37), ('listbot', 37), ('quantities', 37), ('cold', 37), ('aeor', 37), ('ahead', 37), ('stuff', 37), ('luck', 37), ('carry', 37), ('broker', 37), ('town', 37), ('looked', 37), ('se', 37), ('org', 37), ('youin', 37), ('dudley', 37), ('heather', 37), ('orfor', 37), ('seller', 37), ('edu', 37), ('patti', 37), ('stretch', 37), ('dealerand', 37), ('miss', 37), ('tools', 37), ('charges', 37), ('charged', 37), ('zonedubai', 37), ('main', 37), ('benefits', 37), ('ram', 37), ('tim', 37), ('generation', 37), ('tech', 36), ('avails', 36), ('villarreal', 36), ('makes', 36), ('pressure', 36), ('equipment', 36), ('pool', 36), ('dear', 36), ('sexual', 36), ('knowledge', 36), ('reeves', 36), ('contained', 36), ('vaughn', 36), ('foot', 36), ('deciding', 36), ('auto', 36), ('offersin', 36), ('behind', 36), ('island', 36), ('00daren', 36), ('significant', 36), ('edit', 36), ('ifyou', 36), ('search', 36), ('eiben', 36), ('screen', 36), ('player', 36), ('post', 36), ('forms', 36), ('lon', 36), ('anticipates', 36), ('regular', 36), ('adjustments', 36), ('benoit', 36), ('meredith', 36), ('seems', 36), ('kathryn', 36), ('levels', 36), ('saw', 36), ('river', 36), ('law', 36), ('otcbb', 36), ('otc', 36), ('parent', 36), ('markx', 36), ('double', 36), ('sendyour', 36), ('110', 36), ('rick', 35), ('nomad', 35), ('links', 35), ('female', 35), ('cook', 35), ('thus', 35), ('successful', 35), ('thanksgary', 35), ('drug', 35), ('fl', 35), ('advisor', 35), ('indicated', 35), ('forexport', 35), ('payroll', 35), ('timing', 35), ('region', 35), ('settlement', 35), ('sites', 35), ('48834454jebel', 35), ('875', 35), ('tri', 35), ('unable', 35), ('quit', 35), ('rock', 35), ('helps', 35), ('outages', 35), ('200001', 35), ('61', 35), ('adjust', 35), ('00please', 35), ('mcmills', 35), ('consumers', 35), ('whatever', 35), ('urgent', 35), ('contain', 35), ('unless', 35), ('mailings', 34), ('kids', 34), ('fix', 34), ('intend', 34), ('corrected', 34), ('311', 34), ('taxes', 34), ('foresee', 34), ('education', 34), ('decision', 34), ('russ', 34), ('conference', 34), ('severson', 34), ('measurement', 34), ('indicating', 34), ('davis', 34), ('ce', 34), ('da', 34), ('shown', 34), ('joanie', 34), ('designed', 34), ('grow', 34), ('384258', 34), ('48834464all', 34), ('diamond', 34), ('husband', 34), ('pp', 34), ('usd', 34), ('interview', 34), ('meetings', 34), ('previous', 34), ('tv', 34), ('reliable', 34), ('coast', 34), ('33396', 34), ('allocations', 34), ('wireless', 34), ('environment', 34), ('68', 34), ('vice', 34), ('sit', 34), ('bobby', 34), ('fares', 34), ('greif', 34), ('202', 34), ('premium', 34), ('particular', 34), ('copies', 34), ('hit', 34), ('art', 34), ('atleast', 34), ('270', 33), ('choice', 33), ('lesson', 33), ('understands', 33), ('drop', 33), ('likely', 33), ('cilco', 33), ('managers', 33), ('happening', 33), ('sean', 33), ('internationa', 33), ('acquire', 33), ('gmt', 33), ('transco', 33), ('intra', 33), ('leth', 33), ('competition', 33), ('liquids', 33), ('nick', 33), ('lottery', 33), ('hp', 33), ('joe', 33), ('actions', 33), ('mmbtus', 33), ('fully', 33), ('pretty', 33), ('bed', 33), ('129', 33), ('2001teco', 33), ('notification', 33), ('killing', 33), ('thismail', 33), ('aquila', 33), ('areas', 33), ('verdana', 33), ('studio', 33), ('1000', 33), ('pi', 33), ('molly', 33), ('midstream', 33), ('flynn', 33), ('log', 33), ('louis', 33), ('mack', 33), ('larry', 33), ('preparation', 33), ('personnel', 33), ('eye', 33), ('mix', 33), ('multi', 33), ('although', 33), ('73', 33), ('89', 33), ('swift', 33), ('structure', 33), ('shawna', 33), ('administration', 33), ('allows', 33), ('closed', 33), ('chevron', 32), ('benedict', 32), ('self', 32), ('tonight', 32), ('preinhardt', 32), ('anytime', 32), ('assurance', 32), ('acts', 32), ('addressed', 32), ('teams', 32), ('285', 32), ('dolphin', 32), ('websites', 32), ('electric', 32), ('proven', 32), ('solicitation', 32), ('ad', 32), ('treatment', 32), ('ft', 32), ('dawn', 32), ('identify', 32), ('assume', 32), ('language', 32), ('wc', 32), ('producers', 32), ('largest', 32), ('competitive', 32), ('willbe', 32), ('sr', 32), ('ti', 32), ('comstock', 32), ('completely', 32), ('affordable', 32), ('9696', 32), ('doctors', 32), ('respectiveownersproducts', 32), ('ngo', 32), ('sdsnom', 32), ('lyondell', 32), ('0032', 32), ('waste', 32), ('graphics', 32), ('club', 32), ('penny', 32), ('intraday', 32), ('resolution', 32), ('often', 32), ('sds', 32), ('jason', 32), ('incorrect', 32), ('separate', 32), ('netco', 32), ('impacted', 31), ('locations', 31), ('248', 31), ('diligence', 31), ('reviewed', 31), ('powerful', 31), ('hector', 31), ('movies', 31), ('rivers', 31), ('6934', 31), ('dell', 31), ('predictions', 31), ('gone', 31), ('opm', 31), ('completion', 31), ('accountant', 31), ('zeroed', 31), ('killed', 31), ('desks', 31), ('frank', 31), ('brennan', 31), ('street', 31), ('prayer', 31), ('blank', 31), ('resuits', 31), ('son', 31), ('banking', 31), ('posted', 31), ('billing', 31), ('ref', 31), ('medication', 31), ('sabrae', 31), ('valadez', 31), ('properly', 31), ('explode', 31), ('automatically', 31), ('purpose', 31), ('exercise', 31), ('decrease', 31), ('apparently', 31), ('proper', 31), ('commodity', 31), ('sports', 31), ('76', 31), ('anywhere', 31), ('alone', 31), ('noon', 31), ('consider', 31), ('certificate', 31), ('bobvance', 31), ('vegas', 31), ('external', 31), ('soma', 31), ('filings', 31), ('joint', 31), ('specials', 31), ('organization', 31), ('advanced', 31), ('symbol', 31), ('noted', 31), ('571', 31), ('master', 30), ('gateway', 30), ('producing', 30), ('guide', 30), ('0020', 30), ('0025', 30), ('entertainment', 30), ('header', 30), ('analysts', 30), ('setting', 30), ('rom', 30), ('torch', 30), ('bretz', 30), ('00i', 30), ('victoria', 30), ('pics', 30), ('affected', 30), ('jerry', 30), ('em', 30), ('promotion', 30), ('adonis', 30), ('written', 30), ('spend', 30), ('functionality', 30), ('connie', 30), ('ls', 30), ('entries', 30), ('feature', 30), ('discovered', 30), ('hottlist', 30), ('meant', 30), ('bane', 30), ('payback', 30), ('hrs', 30), ('cart', 30), ('rules', 30), ('beliefs', 30), ('protocol', 30), ('max', 30), ('deposit', 30), ('materially', 30), ('trust', 30), ('intercompany', 30), ('offices', 30), ('5923', 30), ('shipment', 30), ('72', 30), ('units', 30), ('rolled', 30), ('scheduler', 30), ('melissagraves', 30), ('nat', 30), ('solid', 30), ('responsibilities', 30), ('diane', 30), ('96008903', 30), ('laptop', 30), ('anderson', 30), ('0439', 30), ('apple', 30), ('york', 30), ('sheri', 30), ('locker', 29), ('pulled', 29), ('operation', 29), ('ritawynne', 29), ('comthis', 29), ('belize', 29), ('pack', 29), ('802', 29), ('released', 29), ('oem', 29), ('reached', 29), ('redmond', 29), ('silver', 29), ('ac', 29), ('official', 29), ('requests', 29), ('kyle', 29), ('urbanek', 29), ('ia', 29), ('laura', 29), ('552', 29), ('chemical', 29), ('tool', 29), ('henderson', 29), ('strictly', 29), ('woman', 29), ('design', 29), ('randall', 29), ('shareholder', 29), ('shouldbe', 29), ('dated', 29), ('rr', 29), ('login', 29), ('inside', 29), ('resource', 29), ('41500', 29), ('putting', 29), ('reliance', 29), ('un', 29), ('xl', 29), ('cannon', 29), ('hundred', 29), ('tongue', 29), ('reviews', 29), ('lease', 29), ('networks', 29), ('proposal', 29), ('julia', 29), ('releases', 29), ('heal', 29), ('college', 29), ('79', 29), ('generated', 29), ('138', 29), ('cellspacing', 29), ('confidentiality', 29), ('213', 29), ('continued', 29), ('rule', 29), ('craig', 29), ('todd', 29), ('lateral', 29), ('florida', 29), ('conoco', 29), ('llc', 29), ('girl', 29), ('mcgee', 29), ('compensation', 29), ('conversion', 29), ('exact', 28), ('verified', 28), ('respective', 28), ('baby', 28), ('books', 28), ('hand', 28), ('humble', 28), ('maximum', 28), ('corel', 28), ('ecom', 28), ('buddy', 28), ('wiil', 28), ('advises', 28), ('5000', 28), ('mailbox', 28), ('expensive', 28), ('debbie', 28), ('9415', 28), ('hopefully', 28), ('standards', 28), ('980439', 28), ('gains', 28), ('causing', 28), ('anti', 28), ('pico', 28), ('330', 28), ('function', 28), ('palestinian', 28), ('dl', 28), ('correction', 28), ('developing', 28), ('documentation', 28), ('consultation', 28), ('den', 28), ('announces', 28), ('sofftwaares', 28), ('easily', 28), ('reasons', 28), ('helpful', 28), ('negotiations', 28), ('factor', 28), ('epson', 28), ('hughes', 28), ('brad', 28), ('aim', 28), ('eight', 28), ('brokered', 28), ('adult', 28), ('und', 28), ('180', 28), ('controls', 28), ('enhanced', 28), ('hospital', 28), ('lists', 28), ('ffffff', 28), ('holdings', 28), ('distribute', 28), ('driver', 28), ('imceanotes', 28), ('btu', 28), ('sarco', 28), ('garrick', 28), ('richmond', 28), ('cell', 28), ('addresses', 28), ('thoughts', 28), ('mcloughlin', 28), ('treated', 28), ('agua', 28), ('trochta', 28), ('adding', 28), ('worksheet', 28), ('tesssubject', 28), ('pending', 28), ('rich', 27), ('drilling', 27), ('entering', 27), ('caused', 27), ('confidence', 27), ('length', 27), ('protection', 27), ('franklin', 27), ('nommensen', 27), ('safety', 27), ('url', 27), ('highest', 27), ('peccc', 27), ('sample', 27), ('africa', 27), ('providers', 27), ('easier', 27), ('okay', 27), ('larger', 27), ('175', 27), ('steps', 27), ('dealer', 27), ('thinks', 27), ('fromthe', 27), ('sender', 27), ('bar', 27), ('owned', 27), ('count', 27), ('mails', 27), ('requires', 27), ('erections', 27), ('offshore', 27), ('videos', 27), ('participants', 27), ('martinez', 27), ('hundreds', 27), ('provider', 27), ('pa', 27), ('joanne', 27), ('extension', 27), ('european', 27), ('writeoff', 27), ('beach', 27), ('war', 27), ('phentermine', 27), ('forever', 27), ('messaging', 27), ('couid', 27), ('extremely', 27), ('variance', 27), ('happened', 27), ('darron', 27), ('nathan', 27), ('71', 27), ('5848', 27), ('210', 27), ('triple', 27), ('gathered', 27), ('partnership', 27), ('dulce', 27), ('627', 27), ('coordinate', 27), ('emerging', 27), ('220', 27), ('mining', 27), ('carbide', 27), ('6992', 27), ('season', 27), ('space', 27), ('turned', 26), ('procedures', 26), ('tracking', 26), ('enronxgatesubject', 26), ('ehronline', 26), ('vol', 26), ('coffey', 26), ('appreciated', 26), ('develop', 26), ('illustrator', 26), ('001', 26), ('amazing', 26), ('round', 26), ('miles', 26), ('289', 26), ('election', 26), ('picture', 26), ('flag', 26), ('nice', 26), ('opinions', 26), ('keeping', 26), ('determined', 26), ('sharon', 26), ('et', 26), ('forwarding', 26), ('touch', 26), ('die', 26), ('hesitate', 26), ('noticed', 26), ('ii', 26), ('venture', 26), ('remote', 26), ('blood', 26), ('electronic', 26), ('technoiogies', 26), ('peggy', 26), ('compressor', 26), ('improve', 26), ('millions', 26), ('pleasure', 26), ('pinnacle', 26), ('communicate', 26), ('marlin', 26), ('income', 26), ('brought', 26), ('sp', 26), ('6296', 26), ('ail', 26), ('invoiced', 26), ('oba', 26), ('hilliard', 26), ('upgrade', 26), ('valuable', 26), ('ya', 26), ('seem', 26), ('danny', 26), ('responsibility', 26), ('eogi', 26), ('prescriptions', 26), ('handled', 26), ('processed', 26), ('glad', 26), ('court', 26), ('capture', 26), ('heads', 26), ('finding', 26), ('74', 26), ('creating', 26), ('88', 26), ('87', 26), ('att', 26), ('nascar', 26), ('marlene', 26), ('tier', 26), ('pls', 26), ('abdv', 26), ('needto', 26), ('youhave', 26), ('deadline', 26), ('egm', 26), ('block', 26), ('connected', 26), ('utility', 26), ('piece', 26), ('portion', 26), ('restricted', 26), ('loading', 26), ('thecompany', 26), ('profiles', 26), ('forget', 26), ('withthe', 26), ('executed', 26), ('reminder', 26), ('passed', 26), ('tommy', 26), ('barrett', 26), ('aggressive', 25), ('installed', 25), ('imwellhead', 25), ('regardless', 25), ('death', 25), ('2630', 25), ('smoking', 25), ('shareholders', 25), ('smart', 25), ('experiencing', 25), ('anyway', 25), ('platform', 25), ('leaving', 25), ('hence', 25), ('wind', 25), ('6757', 25), ('66', 25), ('iso', 25), ('ct', 25), ('consent', 25), ('focused', 25), ('owns', 25), ('compare', 25), ('moment', 25), ('gore', 25), ('auction', 25), ('discrepancies', 25), ('medium', 25), ('dewpoint', 25), ('nt', 25), ('tessie', 25), ('228', 25), ('hey', 25), ('owners', 25), ('inches', 25), ('cia', 25), ('ut', 25), ('busy', 25), ('exciting', 25), ('collection', 25), ('spain', 25), ('letme', 25), ('supported', 25), ('883', 25), ('888', 25), ('wil', 25), ('processes', 25), ('eat', 25), ('setup', 25), ('240', 25), ('mine', 25), ('mai', 25), ('arial', 25), ('association', 25), ('muscle', 25), ('biggest', 25), ('cheapest', 25), ('hearing', 25), ('64', 25), ('goal', 25), ('obtain', 25), ('richardson', 25), ('spur', 25), ('improved', 25), ('continues', 25), ('las', 25), ('familiar', 25), ('disclosure', 25), ('prohibited', 25), ('canadian', 25), ('wysak', 25), ('960', 25), ('contacts', 25), ('serial', 25), ('115', 25), ('effects', 24), ('advertisement', 24), ('seneca', 24), ('1998', 24), ('gloria', 24), ('carriere', 24), ('moshou', 24), ('512', 24), ('lives', 24), ('ryan', 24), ('originally', 24), ('fare', 24), ('seven', 24), ('zajac', 24), ('filled', 24), ('choate', 24), ('requesting', 24), ('sound', 24), ('organizational', 24), ('hair', 24), ('rental', 24), ('esther', 24), ('began', 24), ('story', 24), ('accurate', 24), ('consemiu', 24), ('increasing', 24), ('earnings', 24), ('expressed', 24), ('technical', 24), ('expiration', 24), ('iwill', 24), ('tape', 24), ('desktop', 24), ('salary', 24), ('uses', 24), ('agenda', 24), ('patricia', 24), ('isc', 24), ('died', 24), ('offered', 24), ('techlite', 24), ('spent', 24), ('industries', 24), ('majeure', 24), ('gov', 24), ('ten', 24), ('proprietary', 24), ('raise', 24), ('recommended', 24), ('cokinos', 24), ('church', 24), ('dating', 24), ('bussell', 24), ('vi', 24), ('hydrocarbon', 24), ('implementation', 24), ('ltaylor', 24), ('imited', 24), ('consumer', 24), ('eyes', 24), ('netherlands', 24), ('gay', 24), ('gap', 24), ('gives', 24), ('unfortunately', 24), ('ownership', 24), ('quite', 24), ('massive', 24), ('darrel', 24), ('male', 24), ('wayne', 24), ('interface', 24), ('chase', 24), ('concerned', 24), ('delivering', 24), ('duplicate', 24), ('blvd', 24), ('device', 24), ('wire', 24), ('1428', 24), ('299', 24), ('glo', 24), ('speak', 24), ('trouble', 24), ('earthlink', 24), ('po', 24), ('campaign', 24), ('sutton', 24), ('comto', 24), ('especially', 24), ('trades', 24), ('tucc', 24), ('published', 24), ('eliminate', 24), ('impotence', 24), ('copied', 24), ('sleep', 24), ('mortgage', 24), ('ways', 24), ('pvr', 24), ('pubiisher', 24), ('agreements', 24), ('premiere', 24), ('bringing', 23), ('indicative', 23), ('watches', 23), ('places', 23), ('583', 23), ('cooperation', 23), ('client', 23), ('default', 23), ('achieve', 23), ('testing', 23), ('suggested', 23), ('fda', 23), ('marshall', 23), ('stores', 23), ('spacer', 23), ('theresa', 23), ('miller', 23), ('possibly', 23), ('republic', 23), ('imagine', 23), ('session', 23), ('5555', 23), ('variety', 23), ('forth', 23), ('ea', 23), ('gt', 23), ('andentered', 23), ('alpine', 23), ('36449', 23), ('buckley', 23), ('till', 23), ('forecast', 23), ('cents', 23), ('examples', 23), ('winners', 23), ('leaders', 23), ('ml', 23), ('undervalued', 23), ('presentation', 23), ('community', 23), ('964', 23), ('types', 23), ('planned', 23), ('sometime', 23), ('150', 23), ('94', 23), ('allowed', 23), ('square', 23), ('gepl', 23), ('tobe', 23), ('experienced', 23), ('becky', 23), ('human', 23), ('mi', 23), ('9643', 23), ('christmas', 23), ('pop', 23), ('satisfaction', 23), ('reduced', 23), ('amended', 23), ('edi', 23), ('82', 23), ('91', 23), ('93', 23), ('hansen', 23), ('prime', 23), ('stranger', 23), ('approve', 23), ('loan', 23), ('servers', 23), ('bowen', 23), ('carter', 23), ('overall', 23), ('signed', 23), ('starts', 23), ('167', 23), ('living', 23), ('atthe', 23), ('connect', 23), ('royalty', 23), ('applicable', 23), ('piease', 23), ('players', 23)]\n",
      "5172\n"
     ]
    }
   ],
   "source": [
    "#CLEAN ALL SENTENCES BY EXTRACTING TOKENS FROM EACH WORD AND USING TOP 3000 OF THEM AS FEATURES\n",
    "\n",
    "stopset = set(stopwords.words('english'))\n",
    "tokenizer = RegexpTokenizer(r'\\w+')\n",
    "datasett = []\n",
    "all_words = []\n",
    "\n",
    "for f in spamfiles:\n",
    "    with open (f, \"r\") as myfile:\n",
    "        #print(f)\n",
    "        x = myfile.read().replace('\\n', '').lower()\n",
    "        #tokens = word_tokenize(x)\n",
    "        tokens = tokenizer.tokenize(x)\n",
    "\n",
    "    tokens = [w for w in tokens if not w in stopset]\n",
    "    datasett.append([f, 'spam'])\n",
    "    for w in tokens:\n",
    "        all_words.append(w)\n",
    "    \n",
    "for f in hamfiles:\n",
    "    with open (f, \"r\") as myfile:\n",
    "        x = myfile.read().replace('\\n', '').lower()\n",
    "        #tokens = word_tokenize(x)\n",
    "        tokens = tokenizer.tokenize(x)\n",
    "\n",
    "    tokens = [w for w in tokens if not w in stopset]\n",
    "    datasett.append([f, 'ham'])\n",
    "    for w in tokens:\n",
    "        all_words.append(w)\n",
    "    \n",
    "dictionary = Counter(all_words)\n",
    "list_to_remove = dictionary.keys()\n",
    "\n",
    "for d in list_to_remove:\n",
    "    if len(d) == 1:\n",
    "        dictionary[d] = 0\n",
    "\n",
    "dictionary = dictionary.most_common(3000)\n",
    "print(dictionary)\n",
    "\n",
    "#print(datasett)\n",
    "print(len(datasett))"
   ]
  },
  {
   "cell_type": "code",
   "execution_count": 34,
   "metadata": {
    "collapsed": false
   },
   "outputs": [
    {
     "name": "stdout",
     "output_type": "stream",
     "text": [
      "(1293, 1.0)\n",
      "[[ 0.  0.  1. ...,  0.  0.  0.]\n",
      " [ 0.  0.  1. ...,  0.  0.  0.]\n",
      " [ 0.  0.  1. ...,  0.  0.  0.]\n",
      " ..., \n",
      " [ 0.  0.  1. ...,  0.  0.  0.]\n",
      " [ 0.  0.  1. ...,  0.  0.  0.]\n",
      " [ 0.  0.  1. ...,  0.  0.  0.]]\n",
      "[[ 0.  0.  1. ...,  0.  0.  0.]\n",
      " [ 0.  0.  1. ...,  0.  0.  0.]\n",
      " [ 0.  0.  1. ...,  0.  0.  0.]\n",
      " ..., \n",
      " [ 0.  0.  1. ...,  0.  0.  0.]\n",
      " [ 0.  0.  1. ...,  0.  0.  0.]\n",
      " [ 0.  0.  2. ...,  0.  0.  0.]]\n"
     ]
    }
   ],
   "source": [
    "#CREATE FEATURE MATRICES FOR BOTH TRAINING AND TESTING SETS\n",
    "train_feat_matrix = np.zeros((3879,3000))\n",
    "test_feat_matrix= np.zeros((1293,3000))\n",
    "docID = 0;\n",
    "train_files = spamfiles[0:1125]+hamfiles[0:2754]\n",
    "test_files = spamfiles[1125:]+hamfiles[2754:]\n",
    "\n",
    "train_labels = np.zeros(3879)\n",
    "train_labels[1125:3879] = 1\n",
    "\n",
    "test_labels = np.zeros(1293)\n",
    "test_labels[375:1293] = 1\n",
    "\n",
    "print(len(test_files), train_labels[1126])\n",
    "\n",
    "for fil in train_files:\n",
    "    with open(fil, \"r\") as fi:\n",
    "        x = fi.read().replace('\\n', '').lower()\n",
    "        #tokens = word_tokenize(x)\n",
    "        words = tokenizer.tokenize(x)\n",
    "        for word in words:\n",
    "            wordID = 0\n",
    "            for i,d in enumerate(dictionary):\n",
    "                if d[0] == word:\n",
    "                    wordID = i\n",
    "                    train_feat_matrix[docID,wordID] = words.count(word)\n",
    "    docID = docID + 1     \n",
    "print(train_feat_matrix)\n",
    "\n",
    "docID = 0\n",
    "for fil in test_files:\n",
    "    with open(fil, \"r\") as fi:\n",
    "        x = fi.read().replace('\\n', '').lower()\n",
    "        #tokens = word_tokenize(x)\n",
    "        words = tokenizer.tokenize(x)\n",
    "        for word in words:\n",
    "            wordID = 0\n",
    "            for i,d in enumerate(dictionary):\n",
    "                if d[0] == word:\n",
    "                    wordID = i\n",
    "                    test_feat_matrix[docID,wordID] = words.count(word)\n",
    "    docID = docID + 1 \n",
    "print(test_feat_matrix)"
   ]
  },
  {
   "cell_type": "code",
   "execution_count": 43,
   "metadata": {
    "collapsed": false
   },
   "outputs": [
    {
     "name": "stdout",
     "output_type": "stream",
     "text": [
      "\n",
      "ForMultinomialNB\n",
      "[[362  13]\n",
      " [105 813]]\n",
      "Accuracy is: 90.8739365816\n",
      "\n",
      "ForGaussianNB\n",
      "[[352  23]\n",
      " [ 78 840]]\n",
      "Accuracy is: 92.18870843\n",
      "\n",
      "ForBernoulliNB\n",
      "[[375   0]\n",
      " [124 794]]\n",
      "Accuracy is: 90.4098994586\n",
      "\n",
      "ForNuSVC\n",
      "[[305  70]\n",
      " [ 31 887]]\n",
      "Accuracy is: 92.18870843\n"
     ]
    }
   ],
   "source": [
    "models = [MultinomialNB(), GaussianNB(), BernoulliNB(), NuSVC()]\n",
    "names = ['MultinomialNB', 'GaussianNB', 'BernoulliNB', 'NuSVC']\n",
    "\n",
    "for i,model in enumerate(models):\n",
    "               \n",
    "    model.fit(train_feat_matrix,train_labels)\n",
    "    result = model.predict(test_feat_matrix)\n",
    "    conf1 = confusion_matrix(test_labels,result)\n",
    "    print '\\nFor'+names[i]+'\\n',conf1\n",
    "    print 'Accuracy is: '+ str(float(conf1[0][0] + conf1[1][1])/12.93)"
   ]
  },
  {
   "cell_type": "code",
   "execution_count": 36,
   "metadata": {
    "collapsed": false
   },
   "outputs": [
    {
     "name": "stdout",
     "output_type": "stream",
     "text": [
      "((1293, 3000), (3879, 3000))\n"
     ]
    }
   ],
   "source": [
    "print(test_feat_matrix.shape, train_feat_matrix.shape)"
   ]
  },
  {
   "cell_type": "code",
   "execution_count": null,
   "metadata": {
    "collapsed": true
   },
   "outputs": [],
   "source": [
    ""
   ]
  }
 ],
 "metadata": {
  "anaconda-cloud": {},
  "kernelspec": {
   "display_name": "Python [conda root]",
   "language": "python",
   "name": "conda-root-py"
  },
  "language_info": {
   "codemirror_mode": {
    "name": "ipython",
    "version": 2.0
   },
   "file_extension": ".py",
   "mimetype": "text/x-python",
   "name": "python",
   "nbconvert_exporter": "python",
   "pygments_lexer": "ipython2",
   "version": "2.7.12"
  }
 },
 "nbformat": 4,
 "nbformat_minor": 0
}